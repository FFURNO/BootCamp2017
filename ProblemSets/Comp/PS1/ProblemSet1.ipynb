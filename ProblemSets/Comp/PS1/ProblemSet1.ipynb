{
 "cells": [
  {
   "cell_type": "markdown",
   "metadata": {},
   "source": [
    "# Problem Set 1 - Francesco Furno\n"
   ]
  },
  {
   "cell_type": "markdown",
   "metadata": {},
   "source": [
    "# # Standard Libraries"
   ]
  },
  {
   "cell_type": "markdown",
   "metadata": {},
   "source": [
    "## Problem 1"
   ]
  },
  {
   "cell_type": "markdown",
   "metadata": {},
   "source": [
    "The function that takes as input a list of numbers and returns as output the minimum, the maximum and the average of such a list."
   ]
  },
  {
   "cell_type": "code",
   "execution_count": 6,
   "metadata": {
    "collapsed": true
   },
   "outputs": [],
   "source": [
    "def function1(x):\n",
    "    m, M, average = min(x), max(x), sum(x)/len(x)\n",
    "    return m, M, average"
   ]
  },
  {
   "cell_type": "markdown",
   "metadata": {},
   "source": [
    "I could write such a function in one line with the \"lambda\" function?"
   ]
  },
  {
   "cell_type": "code",
   "execution_count": 58,
   "metadata": {},
   "outputs": [
    {
     "ename": "TypeError",
     "evalue": "'int' object is not iterable",
     "output_type": "error",
     "traceback": [
      "\u001b[1;31m---------------------------------------------------------------------------\u001b[0m",
      "\u001b[1;31mTypeError\u001b[0m                                 Traceback (most recent call last)",
      "\u001b[1;32m<ipython-input-58-a8ffcb8f9c06>\u001b[0m in \u001b[0;36m<module>\u001b[1;34m()\u001b[0m\n\u001b[1;32m----> 1\u001b[1;33m \u001b[0mf1\u001b[0m \u001b[1;33m=\u001b[0m \u001b[1;32mlambda\u001b[0m \u001b[0mx\u001b[0m \u001b[1;33m:\u001b[0m \u001b[0mmin\u001b[0m\u001b[1;33m(\u001b[0m\u001b[0mx\u001b[0m\u001b[1;33m)\u001b[0m\u001b[1;33m,\u001b[0m \u001b[0mmax\u001b[0m\u001b[1;33m(\u001b[0m\u001b[0mx\u001b[0m\u001b[1;33m)\u001b[0m\u001b[1;33m,\u001b[0m \u001b[0msum\u001b[0m\u001b[1;33m(\u001b[0m\u001b[0mx\u001b[0m\u001b[1;33m)\u001b[0m\u001b[1;33m/\u001b[0m\u001b[0mlen\u001b[0m\u001b[1;33m(\u001b[0m\u001b[0mx\u001b[0m\u001b[1;33m)\u001b[0m\u001b[1;33m\u001b[0m\u001b[0m\n\u001b[0m",
      "\u001b[1;31mTypeError\u001b[0m: 'int' object is not iterable"
     ]
    }
   ],
   "source": [
    "f1 = lambda x : min(x), max(x), sum(x)/len(x)"
   ]
  },
  {
   "cell_type": "markdown",
   "metadata": {},
   "source": [
    " ## Problem 2"
   ]
  },
  {
   "cell_type": "markdown",
   "metadata": {},
   "source": [
    "First consider numbers:"
   ]
  },
  {
   "cell_type": "code",
   "execution_count": 10,
   "metadata": {},
   "outputs": [
    {
     "data": {
      "text/plain": [
       "False"
      ]
     },
     "execution_count": 10,
     "metadata": {},
     "output_type": "execute_result"
    }
   ],
   "source": [
    "x = 6 # Call the object (number) x\n",
    "y = x\n",
    "y = y + 1\n",
    "x==y"
   ]
  },
  {
   "cell_type": "markdown",
   "metadata": {},
   "source": [
    "Since the result is false it means that x and y are distinct objects, i.e. a copy of x had been created. Therefore, a number is an immutable data structure. Let's now consider strings:"
   ]
  },
  {
   "cell_type": "code",
   "execution_count": 57,
   "metadata": {},
   "outputs": [
    {
     "data": {
      "text/plain": [
       "False"
      ]
     },
     "execution_count": 57,
     "metadata": {},
     "output_type": "execute_result"
    }
   ],
   "source": [
    "word = \"hello\"\n",
    "parola = word\n",
    "parola = parola + \"a\"\n",
    "parola==word"
   ]
  },
  {
   "cell_type": "markdown",
   "metadata": {},
   "source": [
    "Since the result is false, strings are immutable objects. Let's now consider lists:"
   ]
  },
  {
   "cell_type": "code",
   "execution_count": 15,
   "metadata": {},
   "outputs": [
    {
     "data": {
      "text/plain": [
       "True"
      ]
     },
     "execution_count": 15,
     "metadata": {},
     "output_type": "execute_result"
    }
   ],
   "source": [
    "lista = [2,5,6]\n",
    "llista = lista\n",
    "llista.append(4)\n",
    "llista == lista\n"
   ]
  },
  {
   "cell_type": "markdown",
   "metadata": {},
   "source": [
    "Since the result is true, lists are mutable objects. Let's now consider tuples:"
   ]
  },
  {
   "cell_type": "code",
   "execution_count": 21,
   "metadata": {},
   "outputs": [
    {
     "data": {
      "text/plain": [
       "False"
      ]
     },
     "execution_count": 21,
     "metadata": {},
     "output_type": "execute_result"
    }
   ],
   "source": [
    "z = (2,3,5)\n",
    "q = z\n",
    "q = q+(1,)\n",
    "q==z"
   ]
  },
  {
   "cell_type": "markdown",
   "metadata": {},
   "source": [
    "Finally, let's consider dictionaries:"
   ]
  },
  {
   "cell_type": "code",
   "execution_count": 41,
   "metadata": {},
   "outputs": [
    {
     "data": {
      "text/plain": [
       "True"
      ]
     },
     "execution_count": 41,
     "metadata": {},
     "output_type": "execute_result"
    }
   ],
   "source": [
    "d = {'me': \"Francesco\", 'you' : \"Instructor\"}\n",
    "e = d\n",
    "e[1] = \"a\"\n",
    "d==e"
   ]
  },
  {
   "cell_type": "markdown",
   "metadata": {},
   "source": [
    "Therefore dictionaries are immutable objects."
   ]
  },
  {
   "cell_type": "markdown",
   "metadata": {},
   "source": [
    "## Problem 3"
   ]
  },
  {
   "cell_type": "markdown",
   "metadata": {},
   "source": [
    "I have written a module called calculator.py. Now let's define the function that will allow me to compute the hypothenuse of a right triangle."
   ]
  },
  {
   "cell_type": "code",
   "execution_count": 40,
   "metadata": {
    "collapsed": true
   },
   "outputs": [],
   "source": [
    "import calculator as calc\n",
    "def hypotenuse(x,y):\n",
    "    a = calc.product(x,x)\n",
    "    b = calc.product(y,y)\n",
    "    c = calc.sum(a,b)\n",
    "    result = calc.squareroot(c)\n",
    "    return result"
   ]
  },
  {
   "cell_type": "markdown",
   "metadata": {},
   "source": [
    "Now, let's compute the hypotenuse of a right triangle with one side equal to 2 and the other one equal to 1:"
   ]
  },
  {
   "cell_type": "code",
   "execution_count": 35,
   "metadata": {
    "scrolled": false
   },
   "outputs": [
    {
     "data": {
      "text/plain": [
       "2.23606797749979"
      ]
     },
     "execution_count": 35,
     "metadata": {},
     "output_type": "execute_result"
    }
   ],
   "source": [
    "hypotenuse(2,1)"
   ]
  },
  {
   "cell_type": "markdown",
   "metadata": {},
   "source": []
  },
  {
   "cell_type": "markdown",
   "metadata": {},
   "source": []
  },
  {
   "cell_type": "markdown",
   "metadata": {
    "collapsed": true
   },
   "source": [
    "# # Numpy"
   ]
  },
  {
   "cell_type": "markdown",
   "metadata": {},
   "source": [
    "## Problem 1"
   ]
  },
  {
   "cell_type": "code",
   "execution_count": 71,
   "metadata": {},
   "outputs": [
    {
     "name": "stdout",
     "output_type": "stream",
     "text": [
      "[[ 37  14 -32 -10]\n",
      " [-54  -7  58  65]]\n"
     ]
    }
   ],
   "source": [
    "import numpy as np\n",
    "A = np.array([[3, -1, 4], [1, 5, -9]])\n",
    "B = np.array([[2, 6, -5, 3], [5, -8, 9, 7], [9, -3, -2, -3]])\n",
    "\n",
    "def product(x,y):\n",
    "    solution = np.dot(x,y)\n",
    "    print(solution)\n",
    "\n",
    "product(A,B)"
   ]
  },
  {
   "cell_type": "markdown",
   "metadata": {},
   "source": [
    "## Problem 2"
   ]
  },
  {
   "cell_type": "code",
   "execution_count": 72,
   "metadata": {},
   "outputs": [
    {
     "name": "stdout",
     "output_type": "stream",
     "text": [
      "[[0 0 0]\n",
      " [0 0 0]\n",
      " [0 0 0]]\n"
     ]
    }
   ],
   "source": [
    "import numpy as np\n",
    "A = np.array([[3, 1, 4],[1, 5, 9],[-5, 3, 1]])\n",
    "\n",
    "def HC(A):\n",
    "    result = - np.dot(np.dot(A,A),A) + 9 * np.dot(A,A) - 15 * A\n",
    "    print(result)\n",
    "\n",
    "HC(A)"
   ]
  },
  {
   "cell_type": "markdown",
   "metadata": {},
   "source": [
    "## Problem 3"
   ]
  },
  {
   "cell_type": "code",
   "execution_count": 73,
   "metadata": {},
   "outputs": [
    {
     "name": "stdout",
     "output_type": "stream",
     "text": [
      "[[ 1.  1.  1.  1.  1.  1.  1.]\n",
      " [ 0.  1.  1.  1.  1.  1.  1.]\n",
      " [ 0.  0.  1.  1.  1.  1.  1.]\n",
      " [ 0.  0.  0.  1.  1.  1.  1.]\n",
      " [ 0.  0.  0.  0.  1.  1.  1.]\n",
      " [ 0.  0.  0.  0.  0.  1.  1.]\n",
      " [ 0.  0.  0.  0.  0.  0.  1.]]\n",
      "[[-1  5  5  5  5  5  5]\n",
      " [-1 -1  5  5  5  5  5]\n",
      " [-1 -1 -1  5  5  5  5]\n",
      " [-1 -1 -1 -1  5  5  5]\n",
      " [-1 -1 -1 -1 -1  5  5]\n",
      " [-1 -1 -1 -1 -1 -1  5]\n",
      " [-1 -1 -1 -1 -1 -1 -1]]\n",
      "[[ -7.  -1.   5.  11.  17.  23.  29.]\n",
      " [ -6.  -6.   0.   6.  12.  18.  24.]\n",
      " [ -5.  -5.  -5.   1.   7.  13.  19.]\n",
      " [ -4.  -4.  -4.  -4.   2.   8.  14.]\n",
      " [ -3.  -3.  -3.  -3.  -3.   3.   9.]\n",
      " [ -2.  -2.  -2.  -2.  -2.  -2.   4.]\n",
      " [ -1.  -1.  -1.  -1.  -1.  -1.  -1.]]\n"
     ]
    }
   ],
   "source": [
    "A = np.ones(7)\n",
    "A = np.triu(A)\n",
    "print(A)\n",
    "\n",
    "B1 = np.full(7,5)\n",
    "B2 = np.tril(np.full(7, 6))\n",
    "B = B1 - B2\n",
    "print(B)\n",
    "solution = A@ B\n",
    "print(solution)"
   ]
  },
  {
   "cell_type": "markdown",
   "metadata": {},
   "source": [
    "## Problem 4"
   ]
  },
  {
   "cell_type": "code",
   "execution_count": 74,
   "metadata": {},
   "outputs": [
    {
     "name": "stdout",
     "output_type": "stream",
     "text": [
      "[ 3  4  7  0  0  6  0 25  9]\n"
     ]
    }
   ],
   "source": [
    "C = np.array([3, 4, 7, -1, -2, 6, -14, 25, 9])\n",
    "C2 = np.copy(C)\n",
    "C2[C2 < 0] = 0\n",
    "print(C2)"
   ]
  },
  {
   "cell_type": "markdown",
   "metadata": {},
   "source": [
    "# # Object-Oriented Programming"
   ]
  },
  {
   "cell_type": "markdown",
   "metadata": {},
   "source": [
    "Let's define the Backpack class as in the notes."
   ]
  },
  {
   "cell_type": "code",
   "execution_count": 60,
   "metadata": {},
   "outputs": [
    {
     "name": "stdout",
     "output_type": "stream",
     "text": [
      "Steven\n",
      "Frank\n",
      "['shirt', 'trousers']\n"
     ]
    }
   ],
   "source": [
    "class Backpack(object):\n",
    "    def __init__(self,name):\n",
    "        self.name = name\n",
    "        self.content = []\n",
    "        \n",
    "    def put(self,item):\n",
    "        self.content.append(item)\n",
    "    \n",
    "    def remove(self,item):\n",
    "        self.content.remove(item)\n",
    "    \n",
    "        \n",
    "my_backpack = Backpack(\"Steven\")      \n",
    "print(my_backpack.name)\n",
    "my_backpack.name = \"Frank\"   # I can modify the attribute of my object after creation\n",
    "print(my_backpack.name)\n",
    "    \n",
    "my_backpack.put(\"shirt\")\n",
    "my_backpack.put(\"trousers\")\n",
    "print(my_backpack.content)\n",
    "\n",
    "\n",
    "    "
   ]
  },
  {
   "cell_type": "markdown",
   "metadata": {},
   "source": [
    "## Problem 1"
   ]
  },
  {
   "cell_type": "code",
   "execution_count": 70,
   "metadata": {},
   "outputs": [
    {
     "name": "stdout",
     "output_type": "stream",
     "text": [
      "['ciao']\n",
      "['ciao', 'hello']\n",
      "[]\n"
     ]
    }
   ],
   "source": [
    "class Backpack(object):\n",
    "    def __init__(self,name, color, max_size=5):\n",
    "        self.name = name\n",
    "        self.color = color\n",
    "        self.max_size = max_size\n",
    "        self.content = []\n",
    "        \n",
    "    def put(self,item):\n",
    "        if len(self.content) >= self.max_size:\n",
    "            print(\"Too many inputs\")\n",
    "        if len(self.content) < self.max_size:\n",
    "            self.content.append(item)\n",
    "    \n",
    "    def remove(self,item):\n",
    "        self.content.remove(item)\n",
    "    \n",
    "    def dump(self):\n",
    "        self.content = []\n",
    "        \n",
    "mybackpack = Backpack(\"Invicta\", \"black\",2)\n",
    "mybackpack.put(\"ciao\")\n",
    "print(mybackpack.content)\n",
    "mybackpack.put(\"hello\")\n",
    "print(mybackpack.content)\n",
    "\n",
    "mybackpack.dump()\n",
    "print(mybackpack.content)"
   ]
  },
  {
   "cell_type": "code",
   "execution_count": null,
   "metadata": {
    "collapsed": true
   },
   "outputs": [],
   "source": []
  }
 ],
 "metadata": {
  "kernelspec": {
   "display_name": "Python 3",
   "language": "python",
   "name": "python3"
  },
  "language_info": {
   "codemirror_mode": {
    "name": "ipython",
    "version": 3
   },
   "file_extension": ".py",
   "mimetype": "text/x-python",
   "name": "python",
   "nbconvert_exporter": "python",
   "pygments_lexer": "ipython3",
   "version": "3.6.1"
  }
 },
 "nbformat": 4,
 "nbformat_minor": 2
}
