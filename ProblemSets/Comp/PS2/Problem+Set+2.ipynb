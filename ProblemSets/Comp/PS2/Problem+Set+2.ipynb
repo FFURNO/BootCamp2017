{
 "cells": [
  {
   "cell_type": "markdown",
   "metadata": {},
   "source": [
    "# Problem Set 2 - Francesco Furno"
   ]
  },
  {
   "cell_type": "markdown",
   "metadata": {},
   "source": [
    "# Plotting Intro"
   ]
  },
  {
   "cell_type": "markdown",
   "metadata": {},
   "source": [
    "## Problem 1"
   ]
  },
  {
   "cell_type": "code",
   "execution_count": null,
   "metadata": {
    "scrolled": false
   },
   "outputs": [],
   "source": [
    "import numpy as np\n",
    "import matplotlib.pyplot as plt\n",
    "\n",
    "def f1(n):\n",
    "    draws = np.random.randn(n,n)\n",
    "    mean = np.mean(draws,1)\n",
    "    variance = np.var(mean)\n",
    "    return variance\n",
    "    \n",
    "f1(100)   # just to check that the function works \n",
    "    "
   ]
  },
  {
   "cell_type": "code",
   "execution_count": null,
   "metadata": {},
   "outputs": [],
   "source": [
    "def f2():\n",
    "    result =[]\n",
    "    for n in np.linspace(100,1000,10,dtype=np.int64):\n",
    "        result_help = f1(n)\n",
    "        result.append(result_help)\n",
    "    return result\n",
    "x = np.linspace(100,1000,10)\n",
    "y = f2()\n",
    "\n",
    "\n",
    "plt.plot(x,y,marker='o')\n",
    "plt.title('Law of Large Number')\n",
    "plt.xlabel('Sample Size')\n",
    "plt.ylabel('Sample Variance')\n",
    "plt.show()"
   ]
  },
  {
   "cell_type": "markdown",
   "metadata": {},
   "source": [
    "## Problem 2"
   ]
  },
  {
   "cell_type": "code",
   "execution_count": null,
   "metadata": {},
   "outputs": [],
   "source": [
    "x = np.linspace(-np.pi,np.pi,1000)\n",
    "y1 = np.cos(x)\n",
    "y2 = np.sin(x)\n",
    "y3 = np.arctan(x)\n",
    "p1 = plt.plot(x, y1, 'r', label='cos(x)')\n",
    "plt.legend()\n",
    "p2 = plt.plot(x, y2, 'b', label='sin(x)')\n",
    "plt.legend()\n",
    "p3 = plt.plot(x, y3, 'g', label='arctan(x)')\n",
    "plt.legend()\n",
    "plt.show()"
   ]
  },
  {
   "cell_type": "markdown",
   "metadata": {},
   "source": [
    "## Problem 3"
   ]
  },
  {
   "cell_type": "code",
   "execution_count": null,
   "metadata": {},
   "outputs": [],
   "source": [
    "x1 = np.linspace(-2,1,100, endpoint=False)\n",
    "x2 = np.linspace(1.01,6,100)\n",
    "y1 = (x1-1)**(-1)\n",
    "y2 = (x2-1)**(-1)\n",
    "plt.figure()\n",
    "plt.plot(x1,y1, 'm--', x2, y2, 'm--', linewidth=3)\n",
    "plt.ylim([-6,6])\n",
    "plt.show()"
   ]
  },
  {
   "cell_type": "markdown",
   "metadata": {},
   "source": [
    "## Problem 4"
   ]
  },
  {
   "cell_type": "code",
   "execution_count": null,
   "metadata": {},
   "outputs": [],
   "source": [
    "def trigonplots():\n",
    "    x = np.linspace(0,2*np.pi,1000)\n",
    "    y1 = np.sin(x)\n",
    "    y2 = np.sin(2*x)\n",
    "    y3 = 2*np.sin(x)\n",
    "    y4 = 2*np.sin(2*x)\n",
    "    plt.subplot(2,2,1)\n",
    "    plt.plot(x,y1, 'g-')\n",
    "    plt.title('Sin(x)')\n",
    "    plt.ylim([-2,2])\n",
    "    plt.subplot(2,2,2)\n",
    "    plt.plot(x,y2, 'r--')\n",
    "    plt.title('Sin(2x)')\n",
    "    plt.ylim([-2,2])\n",
    "    plt.subplot(2,2,3)\n",
    "    plt.plot(x,y3,'b--')\n",
    "    plt.title('2Sin(x)')\n",
    "    plt.ylim([-2,2])\n",
    "    plt.subplot(2,2,4)\n",
    "    plt.plot(x,y4,'m:')\n",
    "    plt.title('2Sin(2x)')\n",
    "    plt.ylim([-2,2])\n",
    "    plt.show()\n",
    "    \n",
    "trigonplots()  "
   ]
  },
  {
   "cell_type": "markdown",
   "metadata": {},
   "source": [
    "## Problem 5"
   ]
  },
  {
   "cell_type": "markdown",
   "metadata": {},
   "source": [
    "Set the current directory where the file FARS.npy is stored."
   ]
  },
  {
   "cell_type": "code",
   "execution_count": null,
   "metadata": {},
   "outputs": [],
   "source": [
    "cd \"C:\\Users\\Francesco\\Dropbox\\Becker Friedman OSM Lab\\Material\\Programming Class\\Problem Sets\\Week 2\"\n",
    "x = np.load(\"FARS.npy\")\n",
    "import matplotlib.pyplot as plt"
   ]
  },
  {
   "cell_type": "code",
   "execution_count": null,
   "metadata": {},
   "outputs": [],
   "source": [
    "hour = x[:,0]\n",
    "longitude = x[:,1]\n",
    "latitude = x[:,2]\n",
    "\n",
    "plt.plot(longitude, latitude,'ko', markersize=0.05)\n",
    "plt.xlabel('Longitude')\n",
    "plt.ylabel('Latitude')\n",
    "plt.axis('equal')\n",
    "plt.show()"
   ]
  },
  {
   "cell_type": "code",
   "execution_count": null,
   "metadata": {},
   "outputs": [],
   "source": [
    "plt.hist(hour, bins=np.arange(1,25))\n",
    "plt.xlabel('Time of the Day (hour)')\n",
    "plt.ylabel('Number of Accidents')\n",
    "plt.show()"
   ]
  },
  {
   "cell_type": "code",
   "execution_count": null,
   "metadata": {
    "collapsed": true
   },
   "outputs": [],
   "source": []
  }
 ],
 "metadata": {
  "kernelspec": {
   "display_name": "Python 3",
   "language": "python",
   "name": "python3"
  },
  "language_info": {
   "codemirror_mode": {
    "name": "ipython",
    "version": 3
   },
   "file_extension": ".py",
   "mimetype": "text/x-python",
   "name": "python",
   "nbconvert_exporter": "python",
   "pygments_lexer": "ipython3",
   "version": "3.6.1"
  }
 },
 "nbformat": 4,
 "nbformat_minor": 2
}
