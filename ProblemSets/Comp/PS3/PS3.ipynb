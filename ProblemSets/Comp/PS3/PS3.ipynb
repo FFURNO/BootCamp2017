{
 "cells": [
  {
   "cell_type": "markdown",
   "metadata": {},
   "source": [
    "# Problem Set 3 - Computation\n",
    "## Francesco Furno"
   ]
  },
  {
   "cell_type": "markdown",
   "metadata": {},
   "source": [
    "## Problem 1"
   ]
  },
  {
   "cell_type": "code",
   "execution_count": 24,
   "metadata": {},
   "outputs": [
    {
     "name": "stdout",
     "output_type": "stream",
     "text": [
      "My algorithm produces: [[ 0.57086438  0.61044829  0.41103417]\n",
      " [ 0.50068287 -0.74200766  0.01220051]\n",
      " [-0.06581791  0.2662094  -0.78503839]\n",
      " [ 0.55809476  0.07658573 -0.44153388]\n",
      " [-0.32806821  0.00668583  0.14023057]]\n",
      "Scipy algorithm produces: [[-0.57086438  0.61044829  0.41103417]\n",
      " [-0.50068287 -0.74200766  0.01220051]\n",
      " [ 0.06581791  0.2662094  -0.78503839]\n",
      " [-0.55809476  0.07658573 -0.44153388]\n",
      " [ 0.32806821  0.00668583  0.14023057]]\n",
      "My algorithm produces: [[ 2.38469764  0.15042118  1.53757234]\n",
      " [ 0.          1.87287855 -0.81372117]\n",
      " [ 0.          0.          1.81150906]\n",
      " [ 0.          0.          0.        ]\n",
      " [ 0.          0.          0.        ]]\n",
      "Scipy algorithm produces: [[-2.38469764 -0.15042118 -1.53757234]\n",
      " [ 0.          1.87287855 -0.81372117]\n",
      " [ 0.          0.          1.81150906]]\n",
      "Q is indeed orthogonal (up to rounding):\n",
      "[[  1.00000000e+00  -3.17143586e-17  -1.39018307e-16]\n",
      " [ -3.17143586e-17   1.00000000e+00   7.46884481e-17]\n",
      " [ -1.39018307e-16   7.46884481e-17   1.00000000e+00]]\n"
     ]
    }
   ],
   "source": [
    "import numpy as np\n",
    "from scipy import linalg as la\n",
    "\n",
    "def QR(A):\n",
    "    shape = A.shape\n",
    "    Q = np.copy(A)\n",
    "    R = np.zeros(shape)\n",
    "    for i in range(shape[1]):\n",
    "        R[i,i] = la.norm(Q[:,i])\n",
    "        Q[:,i] = Q[:,i]/R[i,i]\n",
    "        for j in np.arange(i+1,shape[1],1):\n",
    "            R[i,j] = Q[:,j].T @ Q[:,i]\n",
    "            Q[:,j] = Q[:,j] - R[i,j]*Q[:,i]\n",
    "            \n",
    "    return Q,R\n",
    "\n",
    "A = np.random.randn(5,3)\n",
    "\n",
    "Q,R = QR(A)    # My algo\n",
    "Q1, R1 = la.qr(A, mode=\"economic\")  # Scipy algo\n",
    "\n",
    "print(\"My algorithm produces:\", Q)\n",
    "print(\"Scipy algorithm produces:\",Q1)\n",
    "print(\"My algorithm produces:\", R)\n",
    "print(\"Scipy algorithm produces:\",R1)\n",
    "\n",
    "print(\"Q is indeed orthogonal (up to rounding):\")\n",
    "print(Q.T@Q)"
   ]
  },
  {
   "cell_type": "markdown",
   "metadata": {},
   "source": [
    "## Problem 2"
   ]
  },
  {
   "cell_type": "code",
   "execution_count": 45,
   "metadata": {},
   "outputs": [
    {
     "name": "stdout",
     "output_type": "stream",
     "text": [
      "Determinant based on QR:\n",
      "0.2891046925107528\n",
      "Numpy determinant:\n",
      "0.2891046925107529\n"
     ]
    }
   ],
   "source": [
    "def detQR(A):\n",
    "    shape = A.shape\n",
    "    if shape[0]!=shape[1]:\n",
    "        print(\"Only square matrix accepted\")\n",
    "        return None        \n",
    "    else:\n",
    "        if la.det(A)==0:\n",
    "            print(\"Only invertible matrix accepted\")\n",
    "            return None\n",
    "        else:\n",
    "            Q,R = QR(A)\n",
    "            determinant = (la.det(Q)* la.det(R))\n",
    "    return determinant\n",
    "\n",
    "n = np.random.randint(1,20)\n",
    "A = np.random.randn(n,n)\n",
    "\n",
    "det = detQR(A)\n",
    "det1 = la.det(A)\n",
    "\n",
    "print(\"Determinant based on QR:\")\n",
    "print(det)\n",
    "print(\"Numpy determinant:\")\n",
    "print(det1)"
   ]
  },
  {
   "cell_type": "code",
   "execution_count": 46,
   "metadata": {},
   "outputs": [
    {
     "name": "stdout",
     "output_type": "stream",
     "text": [
      "Only square matrix accepted\n"
     ]
    }
   ],
   "source": [
    "B = np.random.randn(3,2)\n",
    "detQR(B)"
   ]
  },
  {
   "cell_type": "markdown",
   "metadata": {},
   "source": [
    "## Problem 3"
   ]
  },
  {
   "cell_type": "code",
   "execution_count": null,
   "metadata": {
    "collapsed": true
   },
   "outputs": [],
   "source": [
    "def solvelinsys(A,b):\n",
    "    Q,R = QR(A)\n",
    "    y = Q.T@b\n",
    "    "
   ]
  }
 ],
 "metadata": {
  "kernelspec": {
   "display_name": "Python 3",
   "language": "python",
   "name": "python3"
  },
  "language_info": {
   "codemirror_mode": {
    "name": "ipython",
    "version": 3
   },
   "file_extension": ".py",
   "mimetype": "text/x-python",
   "name": "python",
   "nbconvert_exporter": "python",
   "pygments_lexer": "ipython3",
   "version": "3.6.1"
  }
 },
 "nbformat": 4,
 "nbformat_minor": 2
}
